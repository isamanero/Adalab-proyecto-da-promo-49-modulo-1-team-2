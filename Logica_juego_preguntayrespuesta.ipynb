{
 "cells": [
  {
   "cell_type": "markdown",
   "metadata": {},
   "source": [
    "JUEGO DE PREGUNTAS Y RESPUESTAS\n",
    #"1 jugador\n",
    #"Cada pregunta tiene una respuesta única y correcta\n",
    #"El juego termina hasta que el jugador responda 3 preguntas incorrectas o 5 correctas\n"
   ]
  },
  {
   "cell_type": "markdown",
   "metadata": {},
   "source": [
    #"Se crea un diccionario con 10 preguntas. Las preguntas representan las claves y los valores son las respuestas\n",
    #"Se utiliza un código para que seleccione las preguntas de manera aleatoria.\n",
       "   import random\n",
       "   lista de preguntas =[]:\n",
       "   random.choice(lista_palabras) \n",
    #"Se utiliza el bucle while para hacer las preguntas hasta que el jugador responda 3 preguntas incorrectas o 5 correctas\n",
    #"Dentro del bucle se presenta la pregunta al jugador y se permite que ingrese la respuesta\n",
    #"Se crea un código para que el jugador vea el número de preguntas realizadas y el número de respuestas correctas\n",
    #"Dentro del bucle colocar las opciones de victoria o derrota y salir del juego cuando se cumplan\n",
    "    "
   ]
  }
 ],
 "metadata": {
  "kernelspec": {
   "display_name": "base",
   "language": "python",
   "name": "python3"
  },
  "language_info": {
   "name": "python",
   "version": "3.12.7"
  }
 },
 "nbformat": 4,
 "nbformat_minor": 2
}
