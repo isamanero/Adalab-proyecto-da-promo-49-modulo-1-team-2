{
 "cells": [
  {
   "cell_type": "markdown",
   "metadata": {},
   "source": [
    "# Logica en \"humano\" juego del Ahorcado"
   ]
  },
  {
   "cell_type": "code",
   "execution_count": null,
   "metadata": {},
   "outputs": [
    {
     "data": {
      "text/plain": [
       "'caballos'"
      ]
     },
     "execution_count": 2,
     "metadata": {},
     "output_type": "execute_result"
    }
   ],
   "source": [
    "# Jugamos contra el ordenador\n",
    "# importamos random, para generar una palabra aleatoria,\n",
    "# creamos una lista con unas cuantas palabras aleatorias que nos puedan servir para jugar\n",
    "# introducimos el código que escogerá de forma aleatoria una de las palabras de la lista\n",
    "\n",
    "import random\n",
    "lista_palabras = [\"perros\", \"gatos\", \"caballos\"]\n",
    "random.choice(lista_palabras)"
   ]
  },
  {
   "cell_type": "code",
   "execution_count": null,
   "metadata": {},
   "outputs": [],
   "source": [
    "\n",
    "    \n",
    "# jugador 2\n",
    "# mientras queden intentos:\n",
    "        #Introduce una letra\n",
    "       \n",
    "        #si la letra SI está en el tablero \n",
    "            #se añade al tablero en su lugar correspondiente \n",
    "            #se muestra el tablero\n",
    "            #si ya ha completado todos los espacios en blanco\n",
    "                #mensaje de ganador\n",
    "                #break\n",
    "            #si todavia quedan espacios por rellenar y quedan intentos\n",
    "                #mensaje de que ha acertado la letra\n",
    "                #cantidad de intentos que le quedan\n",
    "        #si la letra NO está en el tablero y le quedan intentos:\n",
    "             #se resta 1 a los intentos\n",
    "            #mensaje de que no ha acertado\n",
    "            #mensaje de que le quedan x intentos\n",
    "            #mensaje con la imagen del ahorcado\n",
    "        #si la letra NO está en el tablero y no le quedan mas intentos\n",
    "            #se muestra el dibujo del ahorcado completado\n",
    "            #se muestra mensaje de que ha perdido el juego"
   ]
  }
 ],
 "metadata": {
  "kernelspec": {
   "display_name": "Python 3",
   "language": "python",
   "name": "python3"
  },
  "language_info": {
   "codemirror_mode": {
    "name": "ipython",
    "version": 3
   },
   "file_extension": ".py",
   "mimetype": "text/x-python",
   "name": "python",
   "nbconvert_exporter": "python",
   "pygments_lexer": "ipython3",
   "version": "3.9.6"
  }
 },
 "nbformat": 4,
 "nbformat_minor": 2
}
