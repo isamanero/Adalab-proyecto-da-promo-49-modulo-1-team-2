{
 "cells": [
  {
   "cell_type": "markdown",
   "metadata": {},
   "source": [
    "                  JUEGO PIEDRA, PAPEL O TIJERA\n"
   ]
  },
  {
   "cell_type": "code",
   "execution_count": 1,
   "metadata": {},
   "outputs": [],
   "source": [
    "import random"
   ]
  },
  {
   "cell_type": "code",
   "execution_count": 3,
   "metadata": {},
   "outputs": [],
   "source": [
    "puntos_objetivo=3"
   ]
  },
  {
   "cell_type": "code",
   "execution_count": null,
   "metadata": {},
   "outputs": [],
   "source": [
    "def obtener_eleccion_jugador():\n",
    "\n",
    "    opciones=[\"piedra\",\"papel\",\"tijera\"]\n",
    "\n",
    "    while True:\n",
    "        eleccion=input(\"elige piedra, papel o tijera\").lower()\n",
    "\n",
    "        \n",
    "        if eleccion in opciones:\n",
    "            return eleccion \n",
    "        else:\n",
    "            print(\"entrada erronea,prueba otra vez\")"
   ]
  },
  {
   "cell_type": "code",
   "execution_count": 17,
   "metadata": {},
   "outputs": [
    {
     "data": {
      "text/plain": [
       "'papel'"
      ]
     },
     "execution_count": 17,
     "metadata": {},
     "output_type": "execute_result"
    }
   ],
   "source": [
    "obtener_eleccion_jugador()"
   ]
  },
  {
   "cell_type": "code",
   "execution_count": 15,
   "metadata": {},
   "outputs": [],
   "source": [
    "def obterner_eleccion_computadora():\n",
    "    opciones=[\"piedra\",\"papel\",\"tijera\"]\n",
    "    return random.choice(opciones)"
   ]
  },
  {
   "cell_type": "code",
   "execution_count": 16,
   "metadata": {},
   "outputs": [
    {
     "data": {
      "text/plain": [
       "'tijera'"
      ]
     },
     "execution_count": 16,
     "metadata": {},
     "output_type": "execute_result"
    }
   ],
   "source": [
    "obterner_eleccion_computadora()"
   ]
  },
  {
   "cell_type": "code",
   "execution_count": null,
   "metadata": {},
   "outputs": [],
   "source": [
    "import random\n",
    "\n",
    "def obtener_eleccion_usuario():\n",
    "    opciones = [\"piedra\", \"papel\", \"tijera\"]\n",
    "    while True:\n",
    "        eleccion = input(\"Elige piedra, papel o tijera: \").lower()\n",
    "        if eleccion in opciones:\n",
    "            return eleccion\n",
    "        else:\n",
    "            print(\"Entrada no válida. Intenta de nuevo.\")\n",
    "\n",
    "def obtener_eleccion_computadora():\n",
    "    return random.choice([\"piedra\", \"papel\", \"tijera\"])\n",
    "\n",
    "def determinar_ganador(jugador, computadora):\n",
    "    if jugador == computadora:\n",
    "        return \"Empate\"\n",
    "    elif (jugador == \"piedra\" and computadora == \"tijera\") or \\\n",
    "         (jugador == \"tijera\" and computadora == \"papel\") or \\\n",
    "         (jugador == \"papel\" and computadora == \"piedra\"):\n",
    "        return \"Jugador\"\n",
    "    else:\n",
    "        return \"Computadora\"\n",
    "\n",
    "def jugar():\n",
    "    rondas = 3\n",
    "    puntaje_jugador = 0\n",
    "    puntaje_computadora = 0\n",
    "\n",
    "    for _ in range(rondas):\n",
    "        jugador = obtener_eleccion_usuario()\n",
    "        computadora = obtener_eleccion_computadora()\n",
    "        print(f\"Computadora eligió: {computadora}\")\n",
    "        print(f\"jugador eligió: {jugador}\") \n",
    "\n",
    "        ganador = determinar_ganador(jugador, computadora)\n",
    "        if ganador == \"Jugador\":\n",
    "            puntaje_jugador += 1\n",
    "            print(\"¡Ganaste esta ronda!\")\n",
    "        elif ganador == \"Computadora\":\n",
    "            puntaje_computadora += 1\n",
    "            print(\"La computadora gana esta ronda.\")\n",
    "        else:\n",
    "            print(\"Es un empate.\")\n",
    "\n",
    "        print(f\"Puntuación -> Jugador: {puntaje_jugador} | Computadora: {puntaje_computadora}\\n\")\n",
    "\n",
    "    if puntaje_jugador > puntaje_computadora:\n",
    "        print(\"🎉 ¡Felicidades! Ganaste el juego.\")\n",
    "    elif puntaje_jugador < puntaje_computadora:\n",
    "        print(\"😢 La computadora ganó el juego.\")\n",
    "    else:\n",
    "        print(\"🤝 Es un empate en el juego.\")\n",
    "\n",
    "# Iniciar el juego\n",
    "jugar()"
   ]
  }
 ],
 "metadata": {
  "kernelspec": {
   "display_name": "base",
   "language": "python",
   "name": "python3"
  },
  "language_info": {
   "codemirror_mode": {
    "name": "ipython",
    "version": 3
   },
   "file_extension": ".py",
   "mimetype": "text/x-python",
   "name": "python",
   "nbconvert_exporter": "python",
   "pygments_lexer": "ipython3",
   "version": "3.12.7"
  }
 },
 "nbformat": 4,
 "nbformat_minor": 2
}
