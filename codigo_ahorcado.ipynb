{
 "cells": [
  {
   "cell_type": "markdown",
   "metadata": {},
   "source": [
    "# Juego Ahorcado"
   ]
  },
  {
   "cell_type": "code",
   "execution_count": 2,
   "metadata": {},
   "outputs": [
    {
     "name": "stdout",
     "output_type": "stream",
     "text": [
      "gato\n",
      "['g', 'a', 't', 'o']\n"
     ]
    }
   ],
   "source": [
    "palabra_secreta = \"gato\"\n",
    "\n",
    "lista_palabra_secreta = list(palabra_secreta)\n",
    "\n",
    "print(palabra_secreta)\n",
    "print(lista_palabra_secreta)\n",
    "\n",
    "lista_tablero = [\"*\", \"*\", \"*\", \"*\"]\n",
    "\n",
    "contador = 0\n",
    "intentos = 12\n"
   ]
  },
  {
   "cell_type": "code",
   "execution_count": null,
   "metadata": {},
   "outputs": [],
   "source": []
  },
  {
   "cell_type": "code",
   "execution_count": 23,
   "metadata": {},
   "outputs": [
    {
     "ename": "SyntaxError",
     "evalue": "expression cannot contain assignment, perhaps you meant \"==\"? (4012235755.py, line 9)",
     "output_type": "error",
     "traceback": [
      "\u001b[0;36m  Cell \u001b[0;32mIn[23], line 9\u001b[0;36m\u001b[0m\n\u001b[0;31m    print(lista_tablero[posicion_letra] = letra)\u001b[0m\n\u001b[0m          ^\u001b[0m\n\u001b[0;31mSyntaxError\u001b[0m\u001b[0;31m:\u001b[0m expression cannot contain assignment, perhaps you meant \"==\"?\n"
     ]
    }
   ],
   "source": [
    "letra = \"a\"\n",
    "\n",
    "\n",
    "\n",
    "if letra in palabra_secreta:\n",
    "    posicion_letra = palabra_secreta.find(letra)\n",
    "    print(posicion_letra)\n",
    "    print(\"Letra correcta!!\")\n",
    "    lista_tablero[posicion_letra] = letra\n",
    "    print(lista_tablero)\n",
    "    \n",
    "\n",
    "elif letra not in palabra_secreta:\n",
    "    print(\"Esta letra no está en la palabra screta\")\n",
    "\n",
    "\n",
    "\n",
    "\n",
    "\n"
   ]
  },
  {
   "cell_type": "code",
   "execution_count": null,
   "metadata": {},
   "outputs": [],
   "source": [
    "# HE SACADO UN POCO MÁS DE CÓDIGO: LO HE HECHO EN UNA CELL NUEVA POR SI ACASO\n",
    "# Hay que pulir y convertir en un bulce, para no tener que ejecutar la celda todo el rato\n",
    "# Para automatizar el juego, he visto que es recomendable definir una función, cuando\n",
    "# ya tengamos todo esto definido. Asi pondremos (por ejemplo): jugar_al_ahorcado() --> y automaticamente\n",
    "# salta\n",
    "\n",
    "##TE DEJO AQUI EL CÓDIGO A VER QUE TE PARECE, MAÑANA LO VEMOS"
   ]
  },
  {
   "cell_type": "code",
   "execution_count": null,
   "metadata": {},
   "outputs": [],
   "source": []
  },
  {
   "cell_type": "code",
   "execution_count": null,
   "metadata": {},
   "outputs": [
    {
     "name": "stdout",
     "output_type": "stream",
     "text": [
      "Esta letra no está en la palabra secreta, vuelve a intentarlo\n",
      "|    \n",
      "=======\n"
     ]
    }
   ],
   "source": [
    "letra = input(\"Introduce una letra\").lower()\n",
    "\n",
    "if letra in palabra_secreta:\n",
    "    posicion_letra=palabra_secreta.find(letra)\n",
    "    print(posicion_letra)\n",
    "    print(\"Letra correcta!!\")\n",
    "    lista_tablero[posicion_letra] = letra\n",
    "    print(lista_tablero)\n",
    "    \n",
    "else:\n",
    "    intentos +=1\n",
    "    if intentos == 1:\n",
    "        print(\"Esta letra no está en la palabra secreta, vuelve a intentarlo\")\n",
    "        print(\"=======\")    \n",
    "    if intentos ==2:\n",
    "        print(\"Esta letra no está en la palabra secreta, vuelve a intentarlo\")\n",
    "        print(\"|    \")\n",
    "        print(\"=======\")\n",
    "    if intentos ==3:\n",
    "        print(\"Esta letra no está en la palabra secreta, vuelve a intentarlo\")\n",
    "        print(\"|    \")\n",
    "        print(\"|    \")\n",
    "        print(\"|    \")\n",
    "        print(\"=======\")\n",
    "    if intentos ==4:\n",
    "        print(\"Esta letra no está en la palabra secreta, vuelve a intentarlo\")\n",
    "        print(\"|    \")\n",
    "        print(\"|    \")\n",
    "        print(\"|    \")\n",
    "        print(\"|    \")\n",
    "        print(\"=======\")\n",
    "    if intentos ==5:\n",
    "        print(\"Esta letra no está en la palabra secreta, vuelve a intentarlo\")\n",
    "        print(\"|    \")\n",
    "        print(\"|    \")\n",
    "        print(\"|    \")\n",
    "        print(\"|    \")\n",
    "        print(\"|    \")\n",
    "        print(\"=======\")\n",
    "    if intentos ==6:\n",
    "        print(\"Esta letra no está en la palabra secreta, vuelve a intentarlo!\")\n",
    "        print(\" *****\")\n",
    "        print(\"|    \")\n",
    "        print(\"|    \")\n",
    "        print(\"|    \")\n",
    "        print(\"|    \")\n",
    "        print(\"|    \")\n",
    "        print(\"=======\")\n",
    "    if intentos ==7:\n",
    "        print(\"Esta letra no está en la palabra secreta, vuelve a intentarlo!\")\n",
    "        print(\" *****\")\n",
    "        print(\"|  😒 \")\n",
    "        print(\"|    \")\n",
    "        print(\"|    \")\n",
    "        print(\"|    \")\n",
    "        print(\"|    \")\n",
    "        print(\"=======\")\n",
    "    if intentos ==8:\n",
    "        print(\"Esta letra no está en la palabra secreta, te queda un intento!\")\n",
    "        print(\" *****\")\n",
    "        print(\"|  😒 \")\n",
    "        print(\"| /|\\\\ \")\n",
    "        print(\"|    \")\n",
    "        print(\"|    \")\n",
    "        print(\"|    \")\n",
    "        print(\"=======\")\n",
    "    if intentos ==9:\n",
    "        print(f\"Esta letra no está en la palabra secreta, HAS PERDIDO, la plaabra era {palabra_secreta}\")\n",
    "       \n",
    "  \n",
    "        \n",
    "  \n",
    "        \n",
    "        \n",
    "        \n",
    "        "
   ]
  },
  {
   "cell_type": "code",
   "execution_count": null,
   "metadata": {},
   "outputs": [],
   "source": []
  }
 ],
 "metadata": {
  "kernelspec": {
   "display_name": "Python 3",
   "language": "python",
   "name": "python3"
  },
  "language_info": {
   "codemirror_mode": {
    "name": "ipython",
    "version": 3
   },
   "file_extension": ".py",
   "mimetype": "text/x-python",
   "name": "python",
   "nbconvert_exporter": "python",
   "pygments_lexer": "ipython3",
   "version": "3.12.7"
  }
 },
 "nbformat": 4,
 "nbformat_minor": 2
}
