{
 "cells": [
  {
   "cell_type": "code",
   "execution_count": null,
   "metadata": {},
   "outputs": [],
   "source": [
    "\n",
    "class JuegoPreguntas:\n",
    "    def __init__(self):\n",
    "        self.preguntas = [\n",
    "            {\"pregunta\": \"¿Cuál es la capital de Brasil?\", \"opciones\": [\"a) Madrid\", \"b) Berlín\", \"c) Brasilia\"], \"respuesta\": \"c\"},\n",
    "            {\"pregunta\": \"¿Cuál es el pais más pequeño del mundo?\", \"opciones\": [\"a) Brasil\", \"b) Vaticano\", \"c) Japón\"], \"respuesta\": \"b\"},\n",
    "            {\"pregunta\": \"¿Cuál es el océano más grande del mundo?\", \"opciones\": [\"a) Atlántico\", \"b) Índico\", \"c) Pacífico\"], \"respuesta\": \"c\"},\n",
    "            {\"pregunta\": \"¿Cuál es el país más grande del mundo\", \"opciones\": [\"a) Rusia\", \"b) China\", \"c) Brasil\"], \"respuesta\": \"a\"},a\n",
    "            {\"pregunta\": \"¿Cuál es el río más largo del mundo?\", \"opciones\": [\"a) Amazonas\", \"b) Nilo\", \"c) Tajo\"], \"respuesta\": \"b\"}\n",
    "            ]\n",
    "            \n",
    "        self.puntuacion = 0\n",
    "\n",
    "    def iniciar_juego(self):\n",
    "        for i, p in enumerate(self.preguntas):\n",
    "            print(f\"Pregunta {i + 1}: {p['pregunta']}\")\n",
    "            for opcion in p['opciones']:\n",
    "                print(opcion)\n",
    "            \n",
    "            respuesta_usuario = input(\"Elige la respuesta (a, b, c): \").lower()\n",
    "           \n",
    "\n",
    "            if respuesta_usuario == p['respuesta']:\n",
    "                print(\"¡Correcto!\")\n",
    "                self.puntuacion += 1\n",
    "            else:\n",
    "                print(\"Incorrecto\")\n",
    "            \n",
    "\n",
    "        print(f\"Juego terminado. Tu puntuación final es: {self.puntuacion}/{len(self.preguntas)}\")\n",
    "\n",
    "if __name__ == \"__main__\":\n",
    "    juego = JuegoPreguntas()\n",
    "    juego.iniciar_juego()\n"
   ]
  }
 ],
 "metadata": {
  "kernelspec": {
   "display_name": "base",
   "language": "python",
   "name": "python3"
  },
  "language_info": {
   "codemirror_mode": {
    "name": "ipython",
    "version": 3
   },
   "file_extension": ".py",
   "mimetype": "text/x-python",
   "name": "python",
   "nbconvert_exporter": "python",
   "pygments_lexer": "ipython3",
   "version": "3.12.7"
  }
 },
 "nbformat": 4,
 "nbformat_minor": 2
}
